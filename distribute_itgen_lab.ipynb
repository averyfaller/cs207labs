{
 "cells": [
  {
   "cell_type": "markdown",
   "metadata": {
    "collapsed": true
   },
   "source": [
    "## Q1.\n",
    "\n",
    "Add methods `__iter__` to your project Time Series class to iterate over values, a method `itertimes` to iterate over times, a method `itervalues` to iterate over values, and a method `iteritems` to iterate over time-value pairs. (This is a similar interface to python dictionaries). To test these, check both the types of the results and the answers you expect."
   ]
  },
  {
   "cell_type": "code",
   "execution_count": 1,
   "metadata": {
    "collapsed": true
   },
   "outputs": [],
   "source": [
    "#your code here\n",
    "def __iter__(self):\n",
    "    return TimeSeriesIterator(self._values)\n",
    "    \n",
    "def itertimes(self):\n",
    "    return TimeSeriesIterator(self._times)\n",
    "    \n",
    "def itervalues(self):\n",
    "    return TimeSeriesIterator(self._values)\n",
    "    \n",
    "def iteritems(self):\n",
    "    combined = []\n",
    "    for i in range(len(self._times)):\n",
    "        combined.append((self._times[i], self._values[i]))\n",
    "    return TimeSeriesIterator(combined)"
   ]
  },
  {
   "cell_type": "markdown",
   "metadata": {},
   "source": [
    "## Q2.\n",
    "\n",
    "An online mean and standard deviation algorithm.\n",
    "\n",
    "Below is a function to generate a potentially infinite stream of 1-D data."
   ]
  },
  {
   "cell_type": "code",
   "execution_count": 1,
   "metadata": {
    "collapsed": false
   },
   "outputs": [],
   "source": [
    "from random import normalvariate, random\n",
    "from itertools import count\n",
    "def make_data(m, stop=None):\n",
    "    for _ in count():\n",
    "        if stop and _ > stop:\n",
    "            break\n",
    "        yield 1.0e09 + normalvariate(0, m*random() )\n",
    "        "
   ]
  },
  {
   "cell_type": "markdown",
   "metadata": {},
   "source": [
    "Here is an implementation of an online mean algorithm..see http://www.johndcook.com/blog/standard_deviation/ and the link to http://www.johndcook.com/blog/2008/09/26/comparing-three-methods-of-computing-standard-deviation/ in-between. (Convince yourselves of the formulas...)"
   ]
  },
  {
   "cell_type": "code",
   "execution_count": 2,
   "metadata": {
    "collapsed": true
   },
   "outputs": [],
   "source": [
    "def online_mean(iterator):\n",
    "    n = 0\n",
    "    mu = 0\n",
    "    for value in iterator:\n",
    "        n += 1\n",
    "        delta = value - mu\n",
    "        mu = mu + delta/n\n",
    "        yield mu"
   ]
  },
  {
   "cell_type": "markdown",
   "metadata": {},
   "source": [
    "We use out generator functions to implement iterators:"
   ]
  },
  {
   "cell_type": "code",
   "execution_count": 3,
   "metadata": {
    "collapsed": false
   },
   "outputs": [
    {
     "data": {
      "text/plain": [
       "[999999995.3587719,\n",
       " 1000000000.8490751,\n",
       " 1000000003.4852787,\n",
       " 999999996.5779055,\n",
       " 1000000002.4041067,\n",
       " 999999999.9922206,\n",
       " 999999992.2797099,\n",
       " 1000000001.7151784,\n",
       " 999999999.4278566,\n",
       " 1000000002.9561822,\n",
       " 1000000002.9114865]"
      ]
     },
     "execution_count": 3,
     "metadata": {},
     "output_type": "execute_result"
    }
   ],
   "source": [
    "g = make_data(5, 10)\n",
    "list(g)"
   ]
  },
  {
   "cell_type": "code",
   "execution_count": 4,
   "metadata": {
    "collapsed": false
   },
   "outputs": [
    {
     "name": "stdout",
     "output_type": "stream",
     "text": [
      "<class 'generator'>\n"
     ]
    },
    {
     "data": {
      "text/plain": [
       "[999999999.7560126,\n",
       " 999999999.7208486,\n",
       " 1000000000.140342,\n",
       " 1000000000.1381993,\n",
       " 999999999.790766,\n",
       " 999999999.3783386,\n",
       " 999999999.5233775,\n",
       " 999999999.8303552,\n",
       " 1000000000.190936,\n",
       " 1000000000.4402493,\n",
       " 1000000000.325816,\n",
       " 1000000000.2037178,\n",
       " 1000000000.2127202,\n",
       " 1000000000.1694349,\n",
       " 999999999.8855081,\n",
       " 999999999.9587972,\n",
       " 999999999.8916953,\n",
       " 999999999.8613325,\n",
       " 999999999.8138906,\n",
       " 999999999.8347207,\n",
       " 999999999.8242164,\n",
       " 999999999.90628,\n",
       " 999999999.913106,\n",
       " 999999999.9366381,\n",
       " 999999999.9703214,\n",
       " 1000000000.1346506,\n",
       " 1000000000.1497025,\n",
       " 1000000000.1980342,\n",
       " 1000000000.3731648,\n",
       " 1000000000.3296163,\n",
       " 1000000000.2629056,\n",
       " 1000000000.2516718,\n",
       " 1000000000.0221694,\n",
       " 1000000000.2281001,\n",
       " 1000000000.2782844,\n",
       " 1000000000.2195377,\n",
       " 1000000000.2980946,\n",
       " 1000000000.4245039,\n",
       " 1000000000.3835912,\n",
       " 1000000000.3379253,\n",
       " 1000000000.2913947,\n",
       " 1000000000.2197529,\n",
       " 1000000000.2129284,\n",
       " 1000000000.146129,\n",
       " 1000000000.2018661,\n",
       " 1000000000.1615082,\n",
       " 1000000000.2648426,\n",
       " 1000000000.2758418,\n",
       " 1000000000.2941436,\n",
       " 1000000000.30137,\n",
       " 1000000000.3337193,\n",
       " 1000000000.326923,\n",
       " 1000000000.3204342,\n",
       " 1000000000.2857202,\n",
       " 1000000000.2868187,\n",
       " 1000000000.2786921,\n",
       " 1000000000.4039712,\n",
       " 1000000000.37096,\n",
       " 1000000000.3853022,\n",
       " 1000000000.3801419,\n",
       " 1000000000.4159702,\n",
       " 1000000000.3733299,\n",
       " 1000000000.3814385,\n",
       " 1000000000.3362284,\n",
       " 1000000000.3053575,\n",
       " 1000000000.3417857,\n",
       " 1000000000.3370041,\n",
       " 1000000000.3584268,\n",
       " 1000000000.358542,\n",
       " 1000000000.3898007,\n",
       " 1000000000.3686671,\n",
       " 1000000000.3771406,\n",
       " 1000000000.3420011,\n",
       " 1000000000.3156983,\n",
       " 1000000000.307236,\n",
       " 1000000000.3155614,\n",
       " 1000000000.347288,\n",
       " 1000000000.373191,\n",
       " 1000000000.3547899,\n",
       " 1000000000.3487979,\n",
       " 1000000000.3718219,\n",
       " 1000000000.3663479,\n",
       " 1000000000.3979012,\n",
       " 1000000000.3987156,\n",
       " 1000000000.3665041,\n",
       " 1000000000.391424,\n",
       " 1000000000.4588511,\n",
       " 1000000000.4524063,\n",
       " 1000000000.4578881,\n",
       " 1000000000.4773953,\n",
       " 1000000000.4722683,\n",
       " 1000000000.4827358,\n",
       " 1000000000.481128,\n",
       " 1000000000.4478168,\n",
       " 1000000000.4529393,\n",
       " 1000000000.4606149,\n",
       " 1000000000.4781847,\n",
       " 1000000000.4238465,\n",
       " 1000000000.4180284,\n",
       " 1000000000.4372859,\n",
       " 1000000000.4336798]"
      ]
     },
     "execution_count": 4,
     "metadata": {},
     "output_type": "execute_result"
    }
   ],
   "source": [
    "g = online_mean(make_data(5, 100))\n",
    "print(type(g))\n",
    "list(g)"
   ]
  },
  {
   "cell_type": "markdown",
   "metadata": {},
   "source": [
    "### 2.1\n",
    "\n",
    "Implement the standard deviation algorithm as a generator function as\n",
    "\n",
    "```python\n",
    "def online_mean_dev(iterator):\n",
    "    BLA BLA\n",
    "    if n > 1:\n",
    "        stddev = math.sqrt(dev_accum/(n-1))\n",
    "        yield (n, value, mu, stddev)\n",
    "```"
   ]
  },
  {
   "cell_type": "code",
   "execution_count": 12,
   "metadata": {
    "collapsed": false
   },
   "outputs": [],
   "source": [
    "import math\n",
    "# your code here\n",
    "def online_mean_dev(iterator):\n",
    "    n = 0\n",
    "    stddev = 0\n",
    "    mu = 0\n",
    "    for value in iterator:\n",
    "        n += 1\n",
    "        prev_mu = mu\n",
    "        delta = value - mu\n",
    "        mu = mu + delta/n\n",
    "        \n",
    "        if n > 1:\n",
    "            dev_accum = stddev + (value - prev_mu) * (value - mu)\n",
    "            stddev = math.sqrt(dev_accum/(n-1))\n",
    "            yield (n, value, mu, stddev)"
   ]
  },
  {
   "cell_type": "markdown",
   "metadata": {},
   "source": [
    "Here we make 100000 element data, and run this iterator on it (imagine running this on a time-series being slowly read from disk"
   ]
  },
  {
   "cell_type": "code",
   "execution_count": 13,
   "metadata": {
    "collapsed": true
   },
   "outputs": [],
   "source": [
    "data_with_stats = online_mean_dev(make_data(5, 100000))"
   ]
  },
  {
   "cell_type": "markdown",
   "metadata": {},
   "source": [
    "## Q3.\n",
    "\n",
    "Let's do Anomaly detection. Write a routine `is_ok`:\n",
    "\n",
    "```python\n",
    "def is_ok(level, t)\n",
    "```\n",
    "\n",
    "which takes a tuple like the one yielded by your code above and returns True if the value is inbetween `level`-$\\sigma$ of the mean."
   ]
  },
  {
   "cell_type": "code",
   "execution_count": 61,
   "metadata": {
    "collapsed": false
   },
   "outputs": [],
   "source": [
    "#your code here\n",
    "def is_ok(level, t):\n",
    "    value = t[1]\n",
    "    mu = t[2]\n",
    "    stddev = t[3]\n",
    "    levelsigma = level - stddev\n",
    "    if levelsigma < 0:\n",
    "        levelsigma = 0\n",
    "    lower = mu - levelsigma\n",
    "    upper = mu + levelsigma\n",
    "    if (value <= upper) and (value >= lower):\n",
    "        yield True\n",
    "    yield False"
   ]
  },
  {
   "cell_type": "markdown",
   "metadata": {},
   "source": [
    "We use this function to create a predicate passed through to `itertools.filterfalse` which is then used to obtain an iterator on the anomalies."
   ]
  },
  {
   "cell_type": "code",
   "execution_count": 62,
   "metadata": {
    "collapsed": true
   },
   "outputs": [],
   "source": [
    "from itertools import filterfalse\n",
    "pred = lambda t: is_ok(5, t)\n",
    "anomalies = filterfalse(pred, data_with_stats)"
   ]
  },
  {
   "cell_type": "markdown",
   "metadata": {},
   "source": [
    "We materialize the anomalies..."
   ]
  },
  {
   "cell_type": "code",
   "execution_count": 63,
   "metadata": {
    "collapsed": false
   },
   "outputs": [
    {
     "data": {
      "text/plain": [
       "[]"
      ]
     },
     "execution_count": 63,
     "metadata": {},
     "output_type": "execute_result"
    }
   ],
   "source": [
    "list(anomalies)#materialize"
   ]
  },
  {
   "cell_type": "markdown",
   "metadata": {},
   "source": [
    "## To think of, but not hand in\n",
    "\n",
    "What kinds of anomalies will this algorithm pick up? What kinds would a shorter \"window\" of anomaly detection, like 100 points around the time in question pick? How might you create an algorithm which does window based averaging? (hint: the window size is small compared to the time series size). \n",
    "\n",
    "Finally think a bit of how you might implement all of this in a production environment..remember that data streaming in might get backed up when you handle an anomaly.\n",
    "\n",
    "(Some inspiration might accrue if you look at the docs for `collections.deque`)."
   ]
  },
  {
   "cell_type": "code",
   "execution_count": null,
   "metadata": {
    "collapsed": true
   },
   "outputs": [],
   "source": []
  }
 ],
 "metadata": {
  "kernelspec": {
   "display_name": "Python 3",
   "language": "python",
   "name": "python3"
  },
  "language_info": {
   "codemirror_mode": {
    "name": "ipython",
    "version": 3
   },
   "file_extension": ".py",
   "mimetype": "text/x-python",
   "name": "python",
   "nbconvert_exporter": "python",
   "pygments_lexer": "ipython3",
   "version": "3.5.1"
  }
 },
 "nbformat": 4,
 "nbformat_minor": 0
}
