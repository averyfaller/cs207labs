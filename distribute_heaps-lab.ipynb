{
 "cells": [
  {
   "cell_type": "markdown",
   "metadata": {
    "collapsed": true
   },
   "source": [
    "## Q1.  Max heap\n",
    "\n",
    "Implement a max heap instead of a min heap, by having the constructor explicitly pass the \"comparison\" operator in. Replace `min` and `del_min` by `dominant` and `del_dominant` methods. Change the classmethods to also take in the operator."
   ]
  },
  {
   "cell_type": "code",
   "execution_count": 23,
   "metadata": {
    "collapsed": true
   },
   "outputs": [],
   "source": [
    "import subprocess\n",
    "from IPython.display import Image\n",
    "def dotify(l, fname):\n",
    "    start = \"\"\"\n",
    "    digraph G {\n",
    "    nodesep=0.3;\n",
    "    ranksep=0.2;\n",
    "    margin=0.1;\n",
    "    node [shape=circle];\n",
    "    edge [arrowsize=0.8];\n",
    "    \"\"\"\n",
    "    end = \"}\"\n",
    "    labels=dict(enumerate(l))\n",
    "    for i, v in labels.items():\n",
    "        if i!=0 and 2*i < len(l):\n",
    "            line1 = \"{} -> {}[side=left];\\n\".format(i, 2*i)\n",
    "        else:\n",
    "            line1=\"\"\n",
    "        if i!=0 and 2*i + 1 < len(l):\n",
    "            line2 = \"{} -> {};\\n\".format(i, 2*i+1)\n",
    "        else:\n",
    "            line2 = \"\"\n",
    "        start = start + line1 + line2\n",
    "    end = \"\\n\".join(\"{}[label=\\\"{}\\\"]\".format(i, labels[i]) for i in labels if i!=0) + end\n",
    "    with open(fname+\".dot\",\"w\") as fd:\n",
    "        fd.write(start+end)\n",
    "    subprocess.call(['./treeplot.sh', fname])"
   ]
  },
  {
   "cell_type": "code",
   "execution_count": 43,
   "metadata": {
    "collapsed": false
   },
   "outputs": [],
   "source": [
    "#your code here\n",
    "class BinaryHeap:\n",
    "    def __init__(self):\n",
    "        self.storage=[None]\n",
    "        self.upto=0\n",
    "        \n",
    "    @classmethod\n",
    "    def heapify_slow(cls, it):\n",
    "        inst = cls()\n",
    "        for i in it:\n",
    "            inst.insert(i)\n",
    "        return inst\n",
    "       \n",
    "    @classmethod\n",
    "    def heapify(cls, it, func):\n",
    "        inst = cls()\n",
    "        inst.storage = inst.storage + list(it)\n",
    "        inst.compare = func\n",
    "        fromhalfway = (len(inst.storage) - 1) // 2\n",
    "        inst.upto = len(inst.storage) - 1\n",
    "        counter = 0\n",
    "        while (fromhalfway > 0):\n",
    "            dotify(inst.storage, \"onheapifyimg\"+str(counter).zfill(2))\n",
    "            counter += 1\n",
    "            inst.sift_down(fromhalfway)\n",
    "            fromhalfway -= 1\n",
    "        dotify(inst.storage, \"onheapifyimg\"+str(counter).zfill(2))\n",
    "        return inst\n",
    "        \n",
    "    def insert(self, value):\n",
    "        self.storage.append(value)\n",
    "        self.upto += 1\n",
    "        self.sift_up(self.upto)\n",
    "\n",
    "    def sift_up(self, i):\n",
    "        parent = i // 2\n",
    "        if parent > 0 and self.compare(self.storage[parent], self.storage[i]):\n",
    "            self.storage[i], self.storage[parent] = self.storage[parent], self.storage[i]\n",
    "            self.sift_up(parent)\n",
    "     \n",
    "    def _dom_child(self, i):\n",
    "        if 2*i + 1 > self.upto:\n",
    "            return 2*i\n",
    "        else:\n",
    "            l = self.compare(self.storage[2*i], self.storage[2*i+1])\n",
    "            return 2*i + l\n",
    "    \n",
    "    def sift_down(self, i):\n",
    "        if 2*i <= self.upto:\n",
    "            child = self._dom_child(i)\n",
    "            if self.compare(self.storage[i], self.storage[child]):\n",
    "                self.storage[child], self.storage[i] = self.storage[i], self.storage[child]\n",
    "                self.sift_down(child)\n",
    "        \n",
    "    def dominant(self):\n",
    "        return self.storage[1]\n",
    "    \n",
    "    def deldominant(self):\n",
    "        domval = self.storage[1]\n",
    "        self.storage[1], self.storage[self.upto] = self.storage[self.upto], self.storage[1]\n",
    "        self.storage.pop()\n",
    "        self.upto -= 1\n",
    "        self.sift_down(1)\n",
    "        return domval"
   ]
  },
  {
   "cell_type": "markdown",
   "metadata": {},
   "source": [
    "Lets use your code to find the minimum as well as the maximum of the old array. Run the code in the following cells and make sure you did it right..."
   ]
  },
  {
   "cell_type": "code",
   "execution_count": 44,
   "metadata": {
    "collapsed": true
   },
   "outputs": [],
   "source": [
    "data = [1,8,5,9,23,2,45,6,7,99,-5]"
   ]
  },
  {
   "cell_type": "code",
   "execution_count": 45,
   "metadata": {
    "collapsed": false
   },
   "outputs": [
    {
     "name": "stdout",
     "output_type": "stream",
     "text": [
      "[None, 99, 23, 45, 9, 8, 2, 5, 6, 7, 1, -5]\n"
     ]
    },
    {
     "data": {
      "text/plain": [
       "99"
      ]
     },
     "execution_count": 45,
     "metadata": {},
     "output_type": "execute_result"
    }
   ],
   "source": [
    "from operator import gt, lt\n",
    "bh = BinaryHeap.heapify(data, lt)\n",
    "print(bh.storage)\n",
    "bh.dominant()"
   ]
  },
  {
   "cell_type": "code",
   "execution_count": 46,
   "metadata": {
    "collapsed": false
   },
   "outputs": [
    {
     "name": "stdout",
     "output_type": "stream",
     "text": [
      "[None, -5, 1, 2, 6, 8, 5, 45, 9, 7, 99, 23]\n"
     ]
    },
    {
     "data": {
      "text/plain": [
       "-5"
      ]
     },
     "execution_count": 46,
     "metadata": {},
     "output_type": "execute_result"
    }
   ],
   "source": [
    "bh = BinaryHeap.heapify(data, gt)\n",
    "print(bh.storage)\n",
    "bh.dominant()"
   ]
  },
  {
   "cell_type": "code",
   "execution_count": 47,
   "metadata": {
    "collapsed": false
   },
   "outputs": [
    {
     "name": "stdout",
     "output_type": "stream",
     "text": [
      "montage: unable to open image `onheapifyimg*.png': No such file or directory @ error/blob.c/OpenBlob/2702.\r\n",
      "montage: unable to open file `onheapifyimg*.png' @ error/png.c/ReadPNGImage/3913.\r\n",
      "montage: missing an image filename `onheapify.png' @ error/montage.c/MontageImageCommand/1790.\r\n"
     ]
    },
    {
     "data": {
      "image/png": "onheapify.png",
      "text/plain": [
       "<IPython.core.display.Image object>"
      ]
     },
     "execution_count": 47,
     "metadata": {},
     "output_type": "execute_result"
    }
   ],
   "source": [
    "!montage -geometry 600x300 -tile 1x6 onheapifyimg*.png onheapify.png\n",
    "Image(\"onheapify.png\")"
   ]
  },
  {
   "cell_type": "markdown",
   "metadata": {},
   "source": [
    "## Q2. Heapsort\n",
    "\n",
    "Heapsort is an algorithm that takes the idea of the selection sort algorithm and replces the inner loop by the use of a max-heap."
   ]
  },
  {
   "cell_type": "code",
   "execution_count": 48,
   "metadata": {
    "collapsed": true
   },
   "outputs": [],
   "source": [
    "def selection_sort(A):\n",
    "    for i in range(len(A)):\n",
    "        print(\"<<<\",A)\n",
    "        min_index = i\n",
    "        for j in range(i+1, len(A)):\n",
    "            if A[j] < A[min_index]:\n",
    "                min_index = j\n",
    "        A[i], A[min_index] = A[min_index], A[i]\n",
    "        print(\">>>\",A)"
   ]
  },
  {
   "cell_type": "code",
   "execution_count": 49,
   "metadata": {
    "collapsed": false
   },
   "outputs": [
    {
     "name": "stdout",
     "output_type": "stream",
     "text": [
      "<<< [1, 8, 5, 9, 23, 2, 45, 6, 7, 99, -5]\n",
      ">>> [-5, 8, 5, 9, 23, 2, 45, 6, 7, 99, 1]\n",
      "<<< [-5, 8, 5, 9, 23, 2, 45, 6, 7, 99, 1]\n",
      ">>> [-5, 1, 5, 9, 23, 2, 45, 6, 7, 99, 8]\n",
      "<<< [-5, 1, 5, 9, 23, 2, 45, 6, 7, 99, 8]\n",
      ">>> [-5, 1, 2, 9, 23, 5, 45, 6, 7, 99, 8]\n",
      "<<< [-5, 1, 2, 9, 23, 5, 45, 6, 7, 99, 8]\n",
      ">>> [-5, 1, 2, 5, 23, 9, 45, 6, 7, 99, 8]\n",
      "<<< [-5, 1, 2, 5, 23, 9, 45, 6, 7, 99, 8]\n",
      ">>> [-5, 1, 2, 5, 6, 9, 45, 23, 7, 99, 8]\n",
      "<<< [-5, 1, 2, 5, 6, 9, 45, 23, 7, 99, 8]\n",
      ">>> [-5, 1, 2, 5, 6, 7, 45, 23, 9, 99, 8]\n",
      "<<< [-5, 1, 2, 5, 6, 7, 45, 23, 9, 99, 8]\n",
      ">>> [-5, 1, 2, 5, 6, 7, 8, 23, 9, 99, 45]\n",
      "<<< [-5, 1, 2, 5, 6, 7, 8, 23, 9, 99, 45]\n",
      ">>> [-5, 1, 2, 5, 6, 7, 8, 9, 23, 99, 45]\n",
      "<<< [-5, 1, 2, 5, 6, 7, 8, 9, 23, 99, 45]\n",
      ">>> [-5, 1, 2, 5, 6, 7, 8, 9, 23, 99, 45]\n",
      "<<< [-5, 1, 2, 5, 6, 7, 8, 9, 23, 99, 45]\n",
      ">>> [-5, 1, 2, 5, 6, 7, 8, 9, 23, 45, 99]\n",
      "<<< [-5, 1, 2, 5, 6, 7, 8, 9, 23, 45, 99]\n",
      ">>> [-5, 1, 2, 5, 6, 7, 8, 9, 23, 45, 99]\n"
     ]
    }
   ],
   "source": [
    "selection_sort(data)"
   ]
  },
  {
   "cell_type": "markdown",
   "metadata": {},
   "source": [
    "The basic idea is this. First heapify the entire array. The max should then be the 1st element (save our placeholder None) of the heap's storage. Swap this max with the last element to store the maximum at the end. Now you've put in some new wierd value at the top of the heap and have lost the heap property. You have an additional element at the end.\n",
    "\n",
    "In-place in the array, without making any additional allocations, consider all but the last element to be the new \"heap\". What method in the heap class must we use to restore the heap property?\n",
    "\n",
    "Use this method to sort the array. Print the before and after for each iteration of the outer loop as above. What is the $O(n)$ for this method?"
   ]
  },
  {
   "cell_type": "code",
   "execution_count": 64,
   "metadata": {
    "collapsed": true
   },
   "outputs": [],
   "source": [
    "data = [1,8,5,9,23,2,45,6,7,99,-5]"
   ]
  },
  {
   "cell_type": "code",
   "execution_count": 83,
   "metadata": {
    "collapsed": false
   },
   "outputs": [],
   "source": [
    "def heap_sort(A):\n",
    "    bh = BinaryHeap.heapify(data, lt)\n",
    "    B = bh.storage\n",
    "    last = len(B) - 1\n",
    "    \n",
    "    for i in range(1,len(B)):\n",
    "        print(\"<<<\",B)\n",
    "        B[1], B[last] = B[last], B[1]\n",
    "        bh.storage = B\n",
    "        bh.upto -= 1\n",
    "        bh.sift_down(1)\n",
    "        \n",
    "        last -= 1\n",
    "        print(\">>>\",B)"
   ]
  },
  {
   "cell_type": "code",
   "execution_count": 84,
   "metadata": {
    "collapsed": false
   },
   "outputs": [
    {
     "name": "stdout",
     "output_type": "stream",
     "text": [
      "<<< [None, 99, 23, 45, 9, 8, 2, 5, 6, 7, 1, -5]\n",
      ">>> [None, 45, 23, 5, 9, 8, 2, -5, 6, 7, 1, 99]\n",
      "<<< [None, 45, 23, 5, 9, 8, 2, -5, 6, 7, 1, 99]\n",
      ">>> [None, 23, 9, 5, 7, 8, 2, -5, 6, 1, 45, 99]\n",
      "<<< [None, 23, 9, 5, 7, 8, 2, -5, 6, 1, 45, 99]\n",
      ">>> [None, 9, 8, 5, 7, 1, 2, -5, 6, 23, 45, 99]\n",
      "<<< [None, 9, 8, 5, 7, 1, 2, -5, 6, 23, 45, 99]\n",
      ">>> [None, 8, 7, 5, 6, 1, 2, -5, 9, 23, 45, 99]\n",
      "<<< [None, 8, 7, 5, 6, 1, 2, -5, 9, 23, 45, 99]\n",
      ">>> [None, 7, 6, 5, -5, 1, 2, 8, 9, 23, 45, 99]\n",
      "<<< [None, 7, 6, 5, -5, 1, 2, 8, 9, 23, 45, 99]\n",
      ">>> [None, 6, 2, 5, -5, 1, 7, 8, 9, 23, 45, 99]\n",
      "<<< [None, 6, 2, 5, -5, 1, 7, 8, 9, 23, 45, 99]\n",
      ">>> [None, 5, 2, 1, -5, 6, 7, 8, 9, 23, 45, 99]\n",
      "<<< [None, 5, 2, 1, -5, 6, 7, 8, 9, 23, 45, 99]\n",
      ">>> [None, 2, -5, 1, 5, 6, 7, 8, 9, 23, 45, 99]\n",
      "<<< [None, 2, -5, 1, 5, 6, 7, 8, 9, 23, 45, 99]\n",
      ">>> [None, 1, -5, 2, 5, 6, 7, 8, 9, 23, 45, 99]\n",
      "<<< [None, 1, -5, 2, 5, 6, 7, 8, 9, 23, 45, 99]\n",
      ">>> [None, -5, 1, 2, 5, 6, 7, 8, 9, 23, 45, 99]\n",
      "<<< [None, -5, 1, 2, 5, 6, 7, 8, 9, 23, 45, 99]\n",
      ">>> [None, -5, 1, 2, 5, 6, 7, 8, 9, 23, 45, 99]\n"
     ]
    }
   ],
   "source": [
    "heap_sort(data)"
   ]
  },
  {
   "cell_type": "markdown",
   "metadata": {},
   "source": [
    "Heapsort executes in O(n*log(n)) since we are using sift_down which runs in log(n), n times.  The n from the initial heapify is dominated by log(n) so we can ignore it."
   ]
  },
  {
   "cell_type": "markdown",
   "metadata": {},
   "source": [
    "## Q3. Median maintenance\n",
    "\n",
    "Median maintenance is a very cool algorithm to find an online median. \n",
    "\n",
    "We create two arrays to test our implementation, using `np.median` to compute our answer..."
   ]
  },
  {
   "cell_type": "code",
   "execution_count": 85,
   "metadata": {
    "collapsed": false
   },
   "outputs": [],
   "source": [
    "import random\n",
    "import numpy as np"
   ]
  },
  {
   "cell_type": "code",
   "execution_count": 86,
   "metadata": {
    "collapsed": false
   },
   "outputs": [
    {
     "name": "stdout",
     "output_type": "stream",
     "text": [
      "150 484.5\n",
      "151 480.0\n"
     ]
    }
   ],
   "source": [
    "l = [random.randint(1,1000) for _ in range(150)]\n",
    "print(len(l), np.median(l))\n",
    "l2 = l + [random.randint(1,1000)]\n",
    "print(len(l2), np.median(l2))"
   ]
  },
  {
   "cell_type": "markdown",
   "metadata": {},
   "source": [
    "You will implement `def online_median(iterator)` which is a generaor yielding successive values of your online median. \n",
    "\n",
    "The algorithm is as follows:\n",
    "\n",
    "We'll use 2 heaps, a max heap for the lower half of the data, and a min-heap for the upper half. We take the first 2values in our data and assign the smaller value to the max heap, while the larger value goes to the min-heap. Then, as we \"insert\" subsequent values in one of the two heaps, the following holds: if we keep the number of elements in both heaps equal (for the even case) or at-most differing by one, the median is respectively the average of the two dominants or the dominant in the heap with one xtra item.\n",
    "\n",
    "What then is our strategy for this balanced insertion? Quite simple really: if a new value is not as dominant as the dominant value, add it to that heap. If it is more dominant, add it to the other. If two items in a row get added to the same heap, the heaps will be out of balance by more than one. In this case, take the dominant element from the larger heap and simply add it to the smaller one."
   ]
  },
  {
   "cell_type": "code",
   "execution_count": 120,
   "metadata": {
    "collapsed": false
   },
   "outputs": [],
   "source": [
    "def add_median(max_heap, min_heap):\n",
    "    # For each iteration add the median\n",
    "    if len(max_heap.storage) == len(min_heap.storage):\n",
    "        median = (max_heap.dominant() + min_heap.dominant()) / 2\n",
    "    elif len(max_heap.storage) > len(min_heap.storage):\n",
    "        median = max_heap.dominant()\n",
    "    else:\n",
    "        median = min_heap.dominant()\n",
    "    return median\n",
    "\n",
    "def online_median(iterator):\n",
    "    medians = []\n",
    "    \n",
    "    # Setup with the first two values\n",
    "    a = next(iterator)\n",
    "    b = next(iterator)\n",
    "    smaller = a if a < b else b\n",
    "    larger = b if b > a else a\n",
    "    max_heap = BinaryHeap.heapify([smaller], lt)\n",
    "    min_heap = BinaryHeap.heapify([larger], gt)\n",
    "    medians.append(add_median(max_heap, min_heap))\n",
    "    i = 0\n",
    "    \n",
    "    for value in iterator:\n",
    "        i += 1\n",
    "        if value < max_heap.dominant():\n",
    "            max_heap.insert(value)\n",
    "        else:\n",
    "            min_heap.insert(value)\n",
    "            \n",
    "        medians.append(add_median(max_heap, min_heap))\n",
    "        \n",
    "        # If we have added two then check to see if the heaps are of even length\n",
    "        if i % 2 == 0:\n",
    "            if len(max_heap.storage) > len(min_heap.storage):\n",
    "                min_heap.insert(max_heap.deldominant())\n",
    "            elif len(min_heap.storage) > len(max_heap.storage):\n",
    "                max_heap.insert(min_heap.deldominant())\n",
    "        \n",
    "    return medians"
   ]
  },
  {
   "cell_type": "markdown",
   "metadata": {},
   "source": [
    "Do your answers match?"
   ]
  },
  {
   "cell_type": "code",
   "execution_count": 122,
   "metadata": {
    "collapsed": false
   },
   "outputs": [
    {
     "name": "stdout",
     "output_type": "stream",
     "text": [
      "484.5\n"
     ]
    },
    {
     "data": {
      "text/plain": [
       "[<matplotlib.lines.Line2D at 0x109a2ca20>]"
      ]
     },
     "execution_count": 122,
     "metadata": {},
     "output_type": "execute_result"
    },
    {
     "data": {
      "image/png": "[encoded data removed]",
      "text/plain": [
       "<matplotlib.figure.Figure at 0x1096d9320>"
      ]
     },
     "metadata": {},
     "output_type": "display_data"
    }
   ],
   "source": [
    "%matplotlib inline\n",
    "import matplotlib.pyplot as plt\n",
    "medians = list(online_median(iter(l)))\n",
    "print(medians[-1])\n",
    "plt.plot(medians)"
   ]
  },
  {
   "cell_type": "code",
   "execution_count": 123,
   "metadata": {
    "collapsed": false
   },
   "outputs": [
    {
     "data": {
      "text/plain": [
       "480"
      ]
     },
     "execution_count": 123,
     "metadata": {},
     "output_type": "execute_result"
    }
   ],
   "source": [
    "list(online_median(iter(l2)))[-1]"
   ]
  },
  {
   "cell_type": "markdown",
   "metadata": {},
   "source": [
    "What is the $O(n)$ behavior of this median maintenance algorithm?"
   ]
  },
  {
   "cell_type": "markdown",
   "metadata": {},
   "source": [
    "This algorithm loops over all the elements O(n), with each iteration calling insert which has a cost of O(log(n)).  So combined it is O(n * log(n))."
   ]
  },
  {
   "cell_type": "markdown",
   "metadata": {},
   "source": [
    "Lastly, lets repeat the analysis we did last time on the randomly generated data."
   ]
  },
  {
   "cell_type": "code",
   "execution_count": 124,
   "metadata": {
    "collapsed": true
   },
   "outputs": [],
   "source": [
    "from random import normalvariate, random\n",
    "from itertools import count\n",
    "def make_data(m, stop=None):\n",
    "    for _ in count():\n",
    "        if stop and _ > stop:\n",
    "            break\n",
    "        yield 1.0e09 + normalvariate(0, m*random() )"
   ]
  },
  {
   "cell_type": "code",
   "execution_count": 125,
   "metadata": {
    "collapsed": false
   },
   "outputs": [
    {
     "name": "stdout",
     "output_type": "stream",
     "text": [
      "<class 'list'>\n"
     ]
    },
    {
     "data": {
      "text/plain": [
       "[1000000000.0090489,\n",
       " 1000000000.0004736,\n",
       " 1000000000.0047612,\n",
       " 1000000000.0004736,\n",
       " 1000000000.0004736,\n",
       " 1000000000.0004736,\n",
       " 1000000000.0004736,\n",
       " 1000000000.0090489,\n",
       " 1000000000.0090489,\n",
       " 1000000000.0124152]"
      ]
     },
     "execution_count": 125,
     "metadata": {},
     "output_type": "execute_result"
    }
   ],
   "source": [
    "g = online_median(make_data(5, 100))\n",
    "print(type(g))\n",
    "out = list(g)\n",
    "out[-10:]"
   ]
  },
  {
   "cell_type": "code",
   "execution_count": 126,
   "metadata": {
    "collapsed": false
   },
   "outputs": [
    {
     "data": {
      "text/plain": [
       "[<matplotlib.lines.Line2D at 0x109b33da0>]"
      ]
     },
     "execution_count": 126,
     "metadata": {},
     "output_type": "execute_result"
    },
    {
     "data": {
      "image/png": "[encoded data removed]",
      "text/plain": [
       "<matplotlib.figure.Figure at 0x109742a90>"
      ]
     },
     "metadata": {},
     "output_type": "display_data"
    }
   ],
   "source": [
    "plt.plot(out)"
   ]
  }
 ],
 "metadata": {
  "kernelspec": {
   "display_name": "Python 3",
   "language": "python",
   "name": "python3"
  },
  "language_info": {
   "codemirror_mode": {
    "name": "ipython",
    "version": 3
   },
   "file_extension": ".py",
   "mimetype": "text/x-python",
   "name": "python",
   "nbconvert_exporter": "python",
   "pygments_lexer": "ipython3",
   "version": "3.5.1"
  }
 },
 "nbformat": 4,
 "nbformat_minor": 0
}
